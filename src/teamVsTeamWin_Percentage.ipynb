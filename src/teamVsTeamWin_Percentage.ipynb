{
 "cells": [
  {
   "cell_type": "code",
   "execution_count": 1,
   "metadata": {
    "collapsed": false
   },
   "outputs": [],
   "source": [
    "import pyspark\n",
    "from pyspark import SparkContext\n",
    "from pyspark import SQLContext\n",
    "sc = SparkContext()\n",
    "sql = SQLContext(sc)"
   ]
  },
  {
   "cell_type": "markdown",
   "metadata": {},
   "source": [
    "**READING THE .CSV FILE OF THE DATASET**"
   ]
  },
  {
   "cell_type": "code",
   "execution_count": 2,
   "metadata": {
    "collapsed": false
   },
   "outputs": [
    {
     "name": "stdout",
     "output_type": "stream",
     "text": [
      "+---+------+----------+----------+--------------------+--------------------+--------------------+-------------+------+----------+--------------------+-----------+--------------+---------------+--------------------+-----------+--------------+-------+\n",
      "| id|season|      city|      date|               team1|               team2|         toss_winner|toss_decision|result|dl_applied|              winner|win_by_runs|win_by_wickets|player_of_match|               venue|    umpire1|       umpire2|umpire3|\n",
      "+---+------+----------+----------+--------------------+--------------------+--------------------+-------------+------+----------+--------------------+-----------+--------------+---------------+--------------------+-----------+--------------+-------+\n",
      "|  1|  2008| Bangalore|2008-04-18|Kolkata Knight Ri...|Royal Challengers...|Royal Challengers...|        field|normal|         0|Kolkata Knight Ri...|        140|             0|    BB McCullum|M Chinnaswamy Sta...|  Asad Rauf|   RE Koertzen|   null|\n",
      "|  2|  2008|Chandigarh|2008-04-19| Chennai Super Kings|     Kings XI Punjab| Chennai Super Kings|          bat|normal|         0| Chennai Super Kings|         33|             0|     MEK Hussey|Punjab Cricket As...|  MR Benson|    SL Shastri|   null|\n",
      "|  3|  2008|     Delhi|2008-04-19|    Rajasthan Royals|    Delhi Daredevils|    Rajasthan Royals|          bat|normal|         0|    Delhi Daredevils|          0|             9|    MF Maharoof|    Feroz Shah Kotla|  Aleem Dar|GA Pratapkumar|   null|\n",
      "|  4|  2008|    Mumbai|2008-04-20|      Mumbai Indians|Royal Challengers...|      Mumbai Indians|          bat|normal|         0|Royal Challengers...|          0|             5|     MV Boucher|    Wankhede Stadium|   SJ Davis|     DJ Harper|   null|\n",
      "|  5|  2008|   Kolkata|2008-04-20|     Deccan Chargers|Kolkata Knight Ri...|     Deccan Chargers|          bat|normal|         0|Kolkata Knight Ri...|          0|             5|      DJ Hussey|        Eden Gardens|  BF Bowden|   K Hariharan|   null|\n",
      "|  6|  2008|    Jaipur|2008-04-21|     Kings XI Punjab|    Rajasthan Royals|     Kings XI Punjab|          bat|normal|         0|    Rajasthan Royals|          0|             6|      SR Watson|Sawai Mansingh St...|  Aleem Dar|     RB Tiffin|   null|\n",
      "|  7|  2008| Hyderabad|2008-04-22|     Deccan Chargers|    Delhi Daredevils|     Deccan Chargers|          bat|normal|         0|    Delhi Daredevils|          0|             9|       V Sehwag|Rajiv Gandhi Inte...|  IL Howell|     AM Saheba|   null|\n",
      "|  8|  2008|   Chennai|2008-04-23| Chennai Super Kings|      Mumbai Indians|      Mumbai Indians|        field|normal|         0| Chennai Super Kings|          6|             0|      ML Hayden|MA Chidambaram St...|  DJ Harper|GA Pratapkumar|   null|\n",
      "|  9|  2008| Hyderabad|2008-04-24|     Deccan Chargers|    Rajasthan Royals|    Rajasthan Royals|        field|normal|         0|    Rajasthan Royals|          0|             3|      YK Pathan|Rajiv Gandhi Inte...|  Asad Rauf|     MR Benson|   null|\n",
      "| 10|  2008|Chandigarh|2008-04-25|     Kings XI Punjab|      Mumbai Indians|      Mumbai Indians|        field|normal|         0|     Kings XI Punjab|         66|             0|  KC Sangakkara|Punjab Cricket As...|  Aleem Dar|     AM Saheba|   null|\n",
      "| 11|  2008| Bangalore|2008-04-26|Royal Challengers...|    Rajasthan Royals|    Rajasthan Royals|        field|normal|         0|    Rajasthan Royals|          0|             7|      SR Watson|M Chinnaswamy Sta...|  MR Benson|     IL Howell|   null|\n",
      "| 12|  2008|   Chennai|2008-04-26|Kolkata Knight Ri...| Chennai Super Kings|Kolkata Knight Ri...|          bat|normal|         0| Chennai Super Kings|          0|             9|       JDP Oram|MA Chidambaram St...|  BF Bowden|AV Jayaprakash|   null|\n",
      "| 13|  2008|    Mumbai|2008-04-27|      Mumbai Indians|     Deccan Chargers|     Deccan Chargers|        field|normal|         0|     Deccan Chargers|          0|            10|   AC Gilchrist|Dr DY Patil Sport...|  Asad Rauf|    SL Shastri|   null|\n",
      "| 14|  2008|Chandigarh|2008-04-27|    Delhi Daredevils|     Kings XI Punjab|    Delhi Daredevils|          bat|normal|         0|     Kings XI Punjab|          0|             4|      SM Katich|Punjab Cricket As...|RE Koertzen|     I Shivram|   null|\n",
      "| 15|  2008| Bangalore|2008-04-28| Chennai Super Kings|Royal Challengers...| Chennai Super Kings|          bat|normal|         0| Chennai Super Kings|         13|             0|       MS Dhoni|M Chinnaswamy Sta...|BR Doctrove|     RB Tiffin|   null|\n",
      "| 16|  2008|   Kolkata|2008-04-29|Kolkata Knight Ri...|      Mumbai Indians|Kolkata Knight Ri...|          bat|normal|         0|      Mumbai Indians|          0|             7|  ST Jayasuriya|        Eden Gardens|  BF Bowden|AV Jayaprakash|   null|\n",
      "| 17|  2008|     Delhi|2008-04-30|    Delhi Daredevils|Royal Challengers...|Royal Challengers...|        field|normal|         0|    Delhi Daredevils|         10|             0|     GD McGrath|    Feroz Shah Kotla|  Aleem Dar|     I Shivram|   null|\n",
      "| 18|  2008| Hyderabad|2008-05-01|     Deccan Chargers|     Kings XI Punjab|     Kings XI Punjab|        field|normal|         0|     Kings XI Punjab|          0|             7|       SE Marsh|Rajiv Gandhi Inte...|BR Doctrove|     RB Tiffin|   null|\n",
      "| 19|  2008|    Jaipur|2008-05-01|    Rajasthan Royals|Kolkata Knight Ri...|    Rajasthan Royals|          bat|normal|         0|    Rajasthan Royals|         45|             0|    SA Asnodkar|Sawai Mansingh St...|RE Koertzen|GA Pratapkumar|   null|\n",
      "| 20|  2008|   Chennai|2008-05-02| Chennai Super Kings|    Delhi Daredevils| Chennai Super Kings|          bat|normal|         0|    Delhi Daredevils|          0|             8|       V Sehwag|MA Chidambaram St...|  BF Bowden|   K Hariharan|   null|\n",
      "+---+------+----------+----------+--------------------+--------------------+--------------------+-------------+------+----------+--------------------+-----------+--------------+---------------+--------------------+-----------+--------------+-------+\n",
      "only showing top 20 rows\n",
      "\n"
     ]
    }
   ],
   "source": [
    "data_path = \"../input/csv/\"                                # path directory to input csv files\n",
    "data_opath = \"../output/csv/\"                               # path directory to output csv files\n",
    "\n",
    "data_matches = (sql.read.format(\"com.databricks.spark.csv\").option(\"header\", \"true\").load(data_path+\"matches.csv\"))\n",
    "data_matches.show()"
   ]
  },
  {
   "cell_type": "markdown",
   "metadata": {},
   "source": [
    "**TAKING THE TWO TEAMS AND THE WINNER FROM THE DATASET**"
   ]
  },
  {
   "cell_type": "code",
   "execution_count": 3,
   "metadata": {
    "collapsed": false
   },
   "outputs": [
    {
     "name": "stdout",
     "output_type": "stream",
     "text": [
      "+--------------------+--------------------+--------------------+\n",
      "|               team1|               team2|              winner|\n",
      "+--------------------+--------------------+--------------------+\n",
      "|Kolkata Knight Ri...|Royal Challengers...|Kolkata Knight Ri...|\n",
      "| Chennai Super Kings|     Kings XI Punjab| Chennai Super Kings|\n",
      "|    Rajasthan Royals|    Delhi Daredevils|    Delhi Daredevils|\n",
      "|      Mumbai Indians|Royal Challengers...|Royal Challengers...|\n",
      "|     Deccan Chargers|Kolkata Knight Ri...|Kolkata Knight Ri...|\n",
      "|     Kings XI Punjab|    Rajasthan Royals|    Rajasthan Royals|\n",
      "|     Deccan Chargers|    Delhi Daredevils|    Delhi Daredevils|\n",
      "| Chennai Super Kings|      Mumbai Indians| Chennai Super Kings|\n",
      "|     Deccan Chargers|    Rajasthan Royals|    Rajasthan Royals|\n",
      "|     Kings XI Punjab|      Mumbai Indians|     Kings XI Punjab|\n",
      "|Royal Challengers...|    Rajasthan Royals|    Rajasthan Royals|\n",
      "|Kolkata Knight Ri...| Chennai Super Kings| Chennai Super Kings|\n",
      "|      Mumbai Indians|     Deccan Chargers|     Deccan Chargers|\n",
      "|    Delhi Daredevils|     Kings XI Punjab|     Kings XI Punjab|\n",
      "| Chennai Super Kings|Royal Challengers...| Chennai Super Kings|\n",
      "|Kolkata Knight Ri...|      Mumbai Indians|      Mumbai Indians|\n",
      "|    Delhi Daredevils|Royal Challengers...|    Delhi Daredevils|\n",
      "|     Deccan Chargers|     Kings XI Punjab|     Kings XI Punjab|\n",
      "|    Rajasthan Royals|Kolkata Knight Ri...|    Rajasthan Royals|\n",
      "| Chennai Super Kings|    Delhi Daredevils|    Delhi Daredevils|\n",
      "+--------------------+--------------------+--------------------+\n",
      "only showing top 20 rows\n",
      "\n"
     ]
    }
   ],
   "source": [
    "team_winner = data_matches.select(data_matches.team1,data_matches.team2,data_matches.winner)\n",
    "team_winner.show()"
   ]
  },
  {
   "cell_type": "markdown",
   "metadata": {},
   "source": [
    "**CHECKING FOR THE MATCHES OF 'KOLKATA KNIGHT RIDERS'**"
   ]
  },
  {
   "cell_type": "code",
   "execution_count": 4,
   "metadata": {
    "collapsed": false,
    "scrolled": true
   },
   "outputs": [
    {
     "name": "stdout",
     "output_type": "stream",
     "text": [
      "+--------------------+--------------------+--------------------+\n",
      "|               team1|               team2|              winner|\n",
      "+--------------------+--------------------+--------------------+\n",
      "|Kolkata Knight Ri...|Royal Challengers...|Kolkata Knight Ri...|\n",
      "|Kolkata Knight Ri...| Chennai Super Kings| Chennai Super Kings|\n",
      "|Kolkata Knight Ri...|      Mumbai Indians|      Mumbai Indians|\n",
      "|Kolkata Knight Ri...|Royal Challengers...|Kolkata Knight Ri...|\n",
      "|Kolkata Knight Ri...|     Deccan Chargers|Kolkata Knight Ri...|\n",
      "|Kolkata Knight Ri...|    Delhi Daredevils|Kolkata Knight Ri...|\n",
      "|Kolkata Knight Ri...|      Mumbai Indians|      Mumbai Indians|\n",
      "|Kolkata Knight Ri...| Chennai Super Kings| Chennai Super Kings|\n",
      "|Kolkata Knight Ri...|    Rajasthan Royals|    Rajasthan Royals|\n",
      "|Kolkata Knight Ri...|     Deccan Chargers|     Deccan Chargers|\n",
      "|Kolkata Knight Ri...|Royal Challengers...|Royal Challengers...|\n",
      "|Kolkata Knight Ri...|     Kings XI Punjab|     Kings XI Punjab|\n",
      "|Kolkata Knight Ri...|    Delhi Daredevils|    Delhi Daredevils|\n",
      "|Kolkata Knight Ri...|    Delhi Daredevils|    Delhi Daredevils|\n",
      "|Kolkata Knight Ri...|Royal Challengers...|Royal Challengers...|\n",
      "|Kolkata Knight Ri...|     Deccan Chargers|     Deccan Chargers|\n",
      "|Kolkata Knight Ri...|     Deccan Chargers|Kolkata Knight Ri...|\n",
      "|Kolkata Knight Ri...|      Mumbai Indians|      Mumbai Indians|\n",
      "|Kolkata Knight Ri...|     Kings XI Punjab|Kolkata Knight Ri...|\n",
      "|Kolkata Knight Ri...|     Deccan Chargers|Kolkata Knight Ri...|\n",
      "+--------------------+--------------------+--------------------+\n",
      "only showing top 20 rows\n",
      "\n"
     ]
    }
   ],
   "source": [
    "team1_= team_winner.filter(\"team1 == 'Kolkata Knight Riders'\")\n",
    "team1_.show()"
   ]
  },
  {
   "cell_type": "code",
   "execution_count": 5,
   "metadata": {
    "collapsed": false
   },
   "outputs": [
    {
     "data": {
      "image/png": "[encoded data removed]",
      "text/plain": [
       "<matplotlib.figure.Figure at 0x7fb78b86dad0>"
      ]
     },
     "metadata": {},
     "output_type": "display_data"
    }
   ],
   "source": [
    "import matplotlib.pyplot as plt  #importing the required library for the visualization\n",
    "\n",
    "from ipywidgets import widgets, interactive  #using the widgets for the dropdown menu and interactive for interactive visuals\n",
    "\n",
    "\n",
    "#Taking the first team from the list\n",
    "first_team = widgets.Dropdown(\n",
    "    #give the options which should be reflected in the list\n",
    "    options=['Rajasthan Royals','Chennai Super Kings','Deccan Chargers','Gujarat Lions','Delhi Daredevils','Mumbai Indians','Kochi Tuskers Kerala','Royal Challengers Bangalore','Pune Warriors','Rising Pune Supergiants','Sunrisers Hyderabad','Kolkata Knight Riders','Kings XI Punjab'],\n",
    "    value='Rajasthan Royals',  #the first team choosen as 'Rajasthan Royals'\n",
    "    description='Team1:',\n",
    ")\n",
    "\n",
    "#Taking the second team from the list\n",
    "second_team = widgets.Dropdown(\n",
    "    options=['Rajasthan Royals','Chennai Super Kings','Deccan Chargers','Gujarat Lions','Delhi Daredevils','Mumbai Indians','Kochi Tuskers Kerala','Royal Challengers Bangalore','Pune Warriors','Rising Pune Supergiants','Sunrisers Hyderabad','Kolkata Knight Riders','Kings XI Punjab'],\n",
    "    value='Delhi Daredevils',  #the second team choosen as 'Delhi Daredevils'\n",
    "    description='Team2:',\n",
    ")\n",
    "\n",
    "#define a function plotit to plot the team vs team win percentage\n",
    "def plotit(first_team,second_team):\n",
    "    if first_team == second_team:   #check whether the two teams selected are same or not.\n",
    "        print \"SAME TEAM\"\n",
    "    else:  \n",
    "        \n",
    "        team1_= team_winner.filter(team_winner.team1 == first_team)\n",
    "        team11_ = team_winner.filter(team_winner.team2 == first_team)\n",
    "        team2_= team1_.filter(team1_.team2 == second_team)\n",
    "        team22_ = team11_.filter(team11_.team1 == second_team)\n",
    "        \n",
    "        winners1_ = team2_.filter(team2_.winner == first_team)#checking the matches won by the first_team\n",
    "        winners11_ = team22_.filter(team22_.winner == first_team)\n",
    "        winners2_ = team2_.filter(team2_.winner == second_team)  #checking the matches won by the second_team\n",
    "        winners22_ = team22_.filter(team22_.winner == second_team)\n",
    "        \n",
    "        \n",
    "        #number of matches won by first team\n",
    "        first_team_win = winners1_.count() \n",
    "        first_team_win2 = winners11_.count()\n",
    "         \n",
    "        #number of matches won by second team\n",
    "        second_team_win = winners2_.count()\n",
    "        second_team_win2 = winners22_.count()        \n",
    "        \n",
    "        \n",
    "        total_matches = team22_.count() + team2_.count() #taking the count of total number of matches\n",
    "        \n",
    "        if first_team_win+second_team_win+first_team_win2+second_team_win2 != total_matches:    #checking for any matches without any result\n",
    "            total_matches = total_matches - (total_matches -(first_team_win + second_team_win + first_team_win2 + second_team_win2))  #calculating new total matches played with significant result\n",
    "        \n",
    "        if total_matches == 0:  #checking if the teams ever played a match between each other\n",
    "            print 'NO MATCHES PLAYED BEFORE'\n",
    "            \n",
    "        else:\n",
    "            first_team_percent = ((first_team_win + first_team_win2) * 100)/float(total_matches) #calculating the percentage win for first team\n",
    "            second_team_percent = ((second_team_win + second_team_win2) * 100)/float(total_matches) #calculating the percentage win for second team\n",
    "        \n",
    "            labels = (first_team,second_team)  #setting the labels for the visualization\n",
    "        \n",
    "            sizes = (first_team_percent,second_team_percent)  #setting the percentages for the visualization\n",
    "        \n",
    "            colors = ['lightgreen', 'orange'] # taking the colors\n",
    "        \n",
    "            plt.pie(sizes, labels=labels, colors=colors,autopct='%1.1f%%',shadow=True, startangle=90)  #making a pie\n",
    "            plt.title(\"Team win percentage\") #setting the title\n",
    "            plt.show()  #displaying the pie chart\n",
    "    \n",
    "interactive(plotit, first_team=first_team,second_team=second_team)  #making the view interactive using ipywidgets"
   ]
  }
 ],
 "metadata": {
  "kernelspec": {
   "display_name": "Python 2",
   "language": "python",
   "name": "python2"
  },
  "language_info": {
   "codemirror_mode": {
    "name": "ipython",
    "version": 2
   },
   "file_extension": ".py",
   "mimetype": "text/x-python",
   "name": "python",
   "nbconvert_exporter": "python",
   "pygments_lexer": "ipython2",
   "version": "2.7.13"
  },
  "widgets": {
   "state": {
    "9e855705a9214c4fbe65ec03bc921245": {
     "views": [
      {
       "cell_index": 7
      }
     ]
    }
   },
   "version": "1.2.0"
  }
 },
 "nbformat": 4,
 "nbformat_minor": 2
}
